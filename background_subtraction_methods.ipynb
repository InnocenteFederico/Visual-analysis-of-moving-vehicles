{
  "nbformat": 4,
  "nbformat_minor": 0,
  "metadata": {
    "colab": {
      "name": "background subtraction methods.ipynb",
      "provenance": [],
      "collapsed_sections": [
        "yHNpLQ0959cf",
        "Kw3_E5ZfBBqR",
        "6gGP3WTIgU0J"
      ],
      "toc_visible": true
    },
    "kernelspec": {
      "name": "python3",
      "display_name": "Python 3"
    }
  },
  "cells": [
    {
      "cell_type": "markdown",
      "metadata": {
        "id": "WLdtz7NAEFoa"
      },
      "source": [
        "In this notebook different methods of background modelling are used to produce foreground masks"
      ]
    },
    {
      "cell_type": "code",
      "metadata": {
        "colab": {
          "base_uri": "https://localhost:8080/"
        },
        "id": "AwNJgaWMEWEr",
        "outputId": "32e51669-970c-4a66-b582-779c723a2b4f"
      },
      "source": [
        "from google.colab import drive\n",
        "drive.mount('/content/drive')"
      ],
      "execution_count": 20,
      "outputs": [
        {
          "output_type": "stream",
          "text": [
            "Drive already mounted at /content/drive; to attempt to forcibly remount, call drive.mount(\"/content/drive\", force_remount=True).\n"
          ],
          "name": "stdout"
        }
      ]
    },
    {
      "cell_type": "code",
      "metadata": {
        "id": "qcKbiwIi51-j"
      },
      "source": [
        "from __future__ import print_function\r\n",
        "import cv2 as cv\r\n",
        "from matplotlib import pyplot as plt\r\n",
        "from PIL import Image\r\n",
        "import numpy as np\r\n",
        "from google.colab import files\r\n",
        "\r\n",
        "video_path = '/content/drive/MyDrive/vision/senza_ombre_motog5.mp4'"
      ],
      "execution_count": 2,
      "outputs": []
    },
    {
      "cell_type": "markdown",
      "metadata": {
        "id": "yHNpLQ0959cf"
      },
      "source": [
        "# MOG2"
      ]
    },
    {
      "cell_type": "markdown",
      "metadata": {
        "id": "HnXBtTnDz3ZP"
      },
      "source": [
        "Read video and create foreground masks using MOG2 method. Save video frames and masks in arrays."
      ]
    },
    {
      "cell_type": "code",
      "metadata": {
        "id": "luTZp12J5_m5",
        "colab": {
          "base_uri": "https://localhost:8080/"
        },
        "outputId": "ed72b7dd-451a-4b35-b396-99406faccca3"
      },
      "source": [
        "masks = []\r\n",
        "frames = []\r\n",
        "backSub = cv.createBackgroundSubtractorMOG2()\r\n",
        "capture = cv.VideoCapture(video_path)\r\n",
        "if not capture.isOpened():\r\n",
        "    print('Unable to open video')\r\n",
        "    exit(0)\r\n",
        "asd = 0\r\n",
        "while True:\r\n",
        "    asd += 1\r\n",
        "    if(asd%100==0):\r\n",
        "      print(asd)\r\n",
        "    ret, frame = capture.read()\r\n",
        "    if frame is None:\r\n",
        "        break\r\n",
        "    frame = cv.cvtColor(frame, cv.COLOR_RGB2GRAY)\r\n",
        "    frame_blur = cv.GaussianBlur(frame.copy(),(5,5),0)\r\n",
        "    foregroundMask = backSub.apply(frame_blur)\r\n",
        "    frames.append(frame)\r\n",
        "    masks.append(foregroundMask)\r\n",
        "print('frames read')"
      ],
      "execution_count": 7,
      "outputs": [
        {
          "output_type": "stream",
          "text": [
            "100\n",
            "200\n",
            "300\n",
            "400\n",
            "500\n",
            "600\n",
            "700\n",
            "800\n",
            "900\n",
            "1000\n",
            "1100\n",
            "frames read\n"
          ],
          "name": "stdout"
        }
      ]
    },
    {
      "cell_type": "markdown",
      "metadata": {
        "id": "rxtN5A6C2KF5"
      },
      "source": [
        "process masks to fill holes and reduce noise"
      ]
    },
    {
      "cell_type": "code",
      "metadata": {
        "colab": {
          "base_uri": "https://localhost:8080/"
        },
        "id": "eVFG-ged2EeF",
        "outputId": "bb419c12-2085-4d4e-cc22-f2aa15117d96"
      },
      "source": [
        "processed_masks = []\r\n",
        "asd = 0\r\n",
        "threshold_value = 150\r\n",
        "\r\n",
        "kernel = cv.getStructuringElement(cv.MORPH_ELLIPSE,(30,30))\r\n",
        "grad_kernel = cv.getStructuringElement(cv.MORPH_ELLIPSE,(10,10))\r\n",
        "\r\n",
        "for mask in masks:\r\n",
        "  asd += 1\r\n",
        "  if (asd%100==0):\r\n",
        "    print('processed ', asd, 'frames')\r\n",
        "  if asd == 164:\r\n",
        "    print('exiting')\r\n",
        "    break\r\n",
        "  gauss = cv.GaussianBlur(mask.copy(),(9,9),0)\r\n",
        "  threshold = cv.threshold(gauss, threshold_value, 255, cv.THRESH_BINARY)\r\n",
        "  threshold = threshold[1]\r\n",
        "  closing = cv.morphologyEx(threshold, cv.MORPH_CLOSE, kernel)\r\n",
        "\r\n",
        "  gradient = cv.morphologyEx(closing, cv.MORPH_GRADIENT, grad_kernel)\r\n",
        "\r\n",
        "  thresh = cv.threshold(gradient, 50, 255, cv.THRESH_BINARY)\r\n",
        "  thresh = thresh[1]\r\n",
        "  flood = cv.floodFill(thresh, None, (0,0), 255)\r\n",
        "  flood = flood[1]\r\n",
        "  invert = cv.bitwise_not(flood)\r\n",
        "  combine = gradient | invert\r\n",
        "\r\n",
        "  test_grad = cv.morphologyEx(combine, cv.MORPH_GRADIENT, kernel)\r\n",
        "  test = cv.bitwise_and(combine, cv.bitwise_not(test_grad))\r\n",
        "  processed_masks.append(test)"
      ],
      "execution_count": 12,
      "outputs": [
        {
          "output_type": "stream",
          "text": [
            "processed  100 frames\n",
            "exiting\n"
          ],
          "name": "stdout"
        }
      ]
    },
    {
      "cell_type": "markdown",
      "metadata": {
        "id": "03gNnKe-2x9z"
      },
      "source": [
        "visualize examples of processed masks"
      ]
    },
    {
      "cell_type": "code",
      "metadata": {
        "colab": {
          "base_uri": "https://localhost:8080/",
          "height": 458
        },
        "id": "cEKEWjP22MA5",
        "outputId": "e73634a6-8e5c-490d-fa46-d69d151f6c9e"
      },
      "source": [
        "fig, ax = plt.subplots(2,3, figsize=(10,10))\r\n",
        "ax[0][0].imshow(threshold)\r\n",
        "ax[0][1].imshow(closing)\r\n",
        "ax[0][2].imshow(gradient)\r\n",
        "ax[1][0].imshow(flood)\r\n",
        "ax[1][1].imshow(invert)\r\n",
        "ax[1][2].imshow(test)"
      ],
      "execution_count": 14,
      "outputs": [
        {
          "output_type": "execute_result",
          "data": {
            "text/plain": [
              "<matplotlib.image.AxesImage at 0x7f7f4b316ef0>"
            ]
          },
          "metadata": {
            "tags": []
          },
          "execution_count": 14
        },
        {
          "output_type": "display_data",
          "data": {
            "image/png": "[encoded data removed]",
            "text/plain": [
              "<Figure size 720x720 with 6 Axes>"
            ]
          },
          "metadata": {
            "tags": [],
            "needs_background": "light"
          }
        }
      ]
    },
    {
      "cell_type": "markdown",
      "metadata": {
        "id": "MG_3v8sa41Qs"
      },
      "source": [
        "output the result"
      ]
    },
    {
      "cell_type": "code",
      "metadata": {
        "id": "ThfWbUGD7SOn"
      },
      "source": [
        "output_array = processed_masks\r\n",
        "\r\n",
        "out = cv.VideoWriter('/content/drive/MyDrive/vision/foreground.mp4',cv.VideoWriter_fourcc(*'DIVX'), capture.get(5), (int(capture.get(3)),int(capture.get(4))))\r\n",
        "shape = (masks[0].shape[0], masks[0].shape[1], 3)\r\n",
        "for i in range(len(output_array)):\r\n",
        "    # writing to a image array\r\n",
        "    mask_corrected = cv.cvtColor(output_array[i], cv.COLOR_GRAY2RGB)\r\n",
        "    out.write(mask_corrected)\r\n",
        "    del mask_corrected\r\n",
        "    if i%100 == 0:\r\n",
        "      print('processed frame ', i)\r\n",
        "\r\n",
        "out.release()"
      ],
      "execution_count": null,
      "outputs": []
    },
    {
      "cell_type": "code",
      "metadata": {
        "colab": {
          "base_uri": "https://localhost:8080/",
          "height": 17
        },
        "id": "yjbchEY88Ch6",
        "outputId": "9d12141c-b0aa-40f0-f356-2d205be138e9"
      },
      "source": [
        "from google.colab import files\r\n",
        "files.download('/content/drive/MyDrive/vision/foreground.mp4')"
      ],
      "execution_count": null,
      "outputs": [
        {
          "output_type": "display_data",
          "data": {
            "application/javascript": [
              "\n",
              "    async function download(id, filename, size) {\n",
              "      if (!google.colab.kernel.accessAllowed) {\n",
              "        return;\n",
              "      }\n",
              "      const div = document.createElement('div');\n",
              "      const label = document.createElement('label');\n",
              "      label.textContent = `Downloading \"${filename}\": `;\n",
              "      div.appendChild(label);\n",
              "      const progress = document.createElement('progress');\n",
              "      progress.max = size;\n",
              "      div.appendChild(progress);\n",
              "      document.body.appendChild(div);\n",
              "\n",
              "      const buffers = [];\n",
              "      let downloaded = 0;\n",
              "\n",
              "      const channel = await google.colab.kernel.comms.open(id);\n",
              "      // Send a message to notify the kernel that we're ready.\n",
              "      channel.send({})\n",
              "\n",
              "      for await (const message of channel.messages) {\n",
              "        // Send a message to notify the kernel that we're ready.\n",
              "        channel.send({})\n",
              "        if (message.buffers) {\n",
              "          for (const buffer of message.buffers) {\n",
              "            buffers.push(buffer);\n",
              "            downloaded += buffer.byteLength;\n",
              "            progress.value = downloaded;\n",
              "          }\n",
              "        }\n",
              "      }\n",
              "      const blob = new Blob(buffers, {type: 'application/binary'});\n",
              "      const a = document.createElement('a');\n",
              "      a.href = window.URL.createObjectURL(blob);\n",
              "      a.download = filename;\n",
              "      div.appendChild(a);\n",
              "      a.click();\n",
              "      div.remove();\n",
              "    }\n",
              "  "
            ],
            "text/plain": [
              "<IPython.core.display.Javascript object>"
            ]
          },
          "metadata": {
            "tags": []
          }
        },
        {
          "output_type": "display_data",
          "data": {
            "application/javascript": [
              "download(\"download_bccd5911-677e-4aa1-81a2-f32b655f97a0\", \"MOG2.mp4\", 83133262)"
            ],
            "text/plain": [
              "<IPython.core.display.Javascript object>"
            ]
          },
          "metadata": {
            "tags": []
          }
        }
      ]
    },
    {
      "cell_type": "markdown",
      "metadata": {
        "id": "pl1JVyht7HuI"
      },
      "source": [
        "# KNN"
      ]
    },
    {
      "cell_type": "markdown",
      "metadata": {
        "id": "ELc6xgwE0Wjb"
      },
      "source": [
        "Read video and create foreground masks using a different mog method. Save video frames and masks in arrays."
      ]
    },
    {
      "cell_type": "code",
      "metadata": {
        "id": "Sa-k5kKt7I5H",
        "colab": {
          "base_uri": "https://localhost:8080/"
        },
        "outputId": "cdfccf43-d7e0-4d92-8ac0-b7a1eb4b0bc8"
      },
      "source": [
        "masks = []\r\n",
        "frames = []\r\n",
        "\r\n",
        "backSub = cv.createBackgroundSubtractorKNN(30, 2000, False)\r\n",
        "capture = cv.VideoCapture(video_path)\r\n",
        "if not capture.isOpened():\r\n",
        "    print('Unable to open video')\r\n",
        "asd = 0\r\n",
        "limit_frames = True #collect only a part of the video, used to save time during testing\r\n",
        "\r\n",
        "while True:\r\n",
        "    asd +=1\r\n",
        "    if(asd%100 == 0):\r\n",
        "      print('processed frame ', asd)\r\n",
        "    if (asd==300) and limit_frames:\r\n",
        "      print('gathered enough frames, exiting')\r\n",
        "      break\r\n",
        "    ret, frame = capture.read()\r\n",
        "    if frame is None:\r\n",
        "        break\r\n",
        "    frame = cv.GaussianBlur(frame,(5,5),0)\r\n",
        "    foregroundMask = backSub.apply(frame)\r\n",
        "    # frames.append(frame)\r\n",
        "    masks.append(foregroundMask)"
      ],
      "execution_count": 4,
      "outputs": [
        {
          "output_type": "stream",
          "text": [
            "processed frame  100\n",
            "processed frame  200\n",
            "processed frame  300\n",
            "gathered enough frames, exiting\n"
          ],
          "name": "stdout"
        }
      ]
    },
    {
      "cell_type": "markdown",
      "metadata": {
        "id": "OZV7Imu00wHg"
      },
      "source": [
        "Apply processing to the foreground masks to fill holes and reduce noise."
      ]
    },
    {
      "cell_type": "code",
      "metadata": {
        "colab": {
          "base_uri": "https://localhost:8080/"
        },
        "id": "ZGWuH9I0DRQ8",
        "outputId": "12d3ec42-ffa6-4663-f434-e7d81e3bfc4e"
      },
      "source": [
        "\r\n",
        "kernel = cv.getStructuringElement(cv.MORPH_ELLIPSE,(30,30))\r\n",
        "gradient_kernel = cv.getStructuringElement(cv.MORPH_RECT,(30,30))\r\n",
        "gradient_kernel2 = cv.getStructuringElement(cv.MORPH_RECT,(30,30))\r\n",
        "erode_kernel = cv.getStructuringElement(cv.MORPH_ELLIPSE,(30,30))\r\n",
        "threshold_value = 50\r\n",
        "new_masks = []\r\n",
        "asd = 0\r\n",
        "for mask in masks:\r\n",
        "  asd += 1\r\n",
        "  if asd%100==0:\r\n",
        "    print('processed ', asd)\r\n",
        "\r\n",
        "  new_mask = cv.GaussianBlur(mask,(5,5),0)\r\n",
        "  new_mask = cv.threshold(new_mask, threshold_value, 255, cv.THRESH_BINARY)\r\n",
        "  new_mask = new_mask[1]\r\n",
        "  closing = cv.morphologyEx(new_mask, cv.MORPH_CLOSE, kernel)\r\n",
        "\r\n",
        "  gradient = cv.morphologyEx(closing, cv.MORPH_GRADIENT, gradient_kernel)\r\n",
        "\r\n",
        "  thresh = cv.threshold(gradient, 50, 255, cv.THRESH_BINARY)\r\n",
        "  thresh = thresh[1]\r\n",
        "  flood = cv.floodFill(thresh, None, (0,0), 255)\r\n",
        "  flood = flood[1]\r\n",
        "  invert = cv.bitwise_not(flood)\r\n",
        "  combine = gradient | invert\r\n",
        "\r\n",
        "  test_grad = cv.morphologyEx(combine, cv.MORPH_GRADIENT, gradient_kernel2)\r\n",
        "  test = cv.bitwise_and(combine, cv.bitwise_not(test_grad))\r\n",
        "  test = cv.erode(test, erode_kernel)\r\n",
        "\r\n",
        "  new_masks.append(test)"
      ],
      "execution_count": 6,
      "outputs": [
        {
          "output_type": "stream",
          "text": [
            "processed  100\n",
            "processed  200\n"
          ],
          "name": "stdout"
        }
      ]
    },
    {
      "cell_type": "markdown",
      "metadata": {
        "id": "mRtOmneW5Ahl"
      },
      "source": [
        "this cell is used for testing and visualizing results"
      ]
    },
    {
      "cell_type": "code",
      "metadata": {
        "colab": {
          "base_uri": "https://localhost:8080/",
          "height": 652
        },
        "id": "vItZx_5O-hPv",
        "outputId": "25e4ca23-fcc4-4d9b-b006-5886d23f6e5d"
      },
      "source": [
        "mask = masks[496]\r\n",
        "kernel = cv.getStructuringElement(cv.MORPH_CROSS,(10,10))\r\n",
        "gradient_kernel = cv.getStructuringElement(cv.MORPH_ELLIPSE,(10,10))\r\n",
        "gradient_kernel2 = cv.getStructuringElement(cv.MORPH_ELLIPSE,(10,10))\r\n",
        "erode_kernel = cv.getStructuringElement(cv.MORPH_ELLIPSE,(30,30))\r\n",
        "threshold_value = 50\r\n",
        "\r\n",
        "new_mask = cv.GaussianBlur(mask,(5,5),0)\r\n",
        "new_mask = cv.threshold(new_mask, threshold_value, 255, cv.THRESH_BINARY)\r\n",
        "new_mask = new_mask[1]\r\n",
        "closing = cv.morphologyEx(new_mask, cv.MORPH_CLOSE, kernel)\r\n",
        "\r\n",
        "gradient = cv.morphologyEx(closing, cv.MORPH_GRADIENT, gradient_kernel)\r\n",
        "\r\n",
        "thresh = cv.threshold(gradient, 50, 255, cv.THRESH_BINARY)\r\n",
        "thresh = thresh[1]\r\n",
        "flood = cv.floodFill(thresh, None, (0,0), 255)\r\n",
        "flood = flood[1]\r\n",
        "invert = cv.bitwise_not(flood)\r\n",
        "combine = gradient | invert\r\n",
        "\r\n",
        "test_grad = cv.morphologyEx(combine, cv.MORPH_GRADIENT, gradient_kernel2)\r\n",
        "test = cv.bitwise_and(combine, cv.bitwise_not(test_grad))\r\n",
        "test = cv.erode(test, erode_kernel)\r\n",
        "\r\n",
        "\r\n",
        "fig, ax = plt.subplots(2,4,figsize=(16,16))\r\n",
        "ax[0][0].imshow(mask, cmap='gray')\r\n",
        "ax[0][1].imshow(new_mask, cmap='gray')\r\n",
        "ax[0][2].imshow(closing, cmap='gray')\r\n",
        "ax[0][3].imshow(test, cmap='gray')\r\n",
        "ax[1][0].imshow(gradient, cmap='gray')\r\n",
        "ax[1][1].imshow(flood, cmap='gray')\r\n",
        "ax[1][2].imshow(invert, cmap='gray')\r\n",
        "ax[1][3].imshow(combine, cmap='gray')"
      ],
      "execution_count": 17,
      "outputs": [
        {
          "output_type": "execute_result",
          "data": {
            "text/plain": [
              "<matplotlib.image.AxesImage at 0x7f6ae45c2a58>"
            ]
          },
          "metadata": {
            "tags": []
          },
          "execution_count": 17
        },
        {
          "output_type": "display_data",
          "data": {
            "image/png": "[encoded data removed]",
            "text/plain": [
              "<Figure size 1152x1152 with 8 Axes>"
            ]
          },
          "metadata": {
            "tags": [],
            "needs_background": "light"
          }
        }
      ]
    },
    {
      "cell_type": "markdown",
      "metadata": {
        "id": "ejF-sn5ggOpi"
      },
      "source": [
        "produce output"
      ]
    },
    {
      "cell_type": "code",
      "metadata": {
        "id": "_C62a83oD8hr",
        "colab": {
          "base_uri": "https://localhost:8080/",
          "height": 218
        },
        "outputId": "8759f98a-d762-494d-e72b-a5fb490833e8"
      },
      "source": [
        "output_array = new_masks\r\n",
        "\r\n",
        "out = cv.VideoWriter('/content/drive/MyDrive/vision/erodedKNN.mp4',cv.VideoWriter_fourcc(*'DIVX'), capture.get(5), (int(capture.get(3)),int(capture.get(4))))\r\n",
        "shape = (masks[0].shape[0], masks[0].shape[1], 3)\r\n",
        "for i in range(len(output_array)):\r\n",
        "    # writing to a image array\r\n",
        "    mask_corrected = cv.cvtColor(output_array[i], cv.COLOR_GRAY2RGB)\r\n",
        "    out.write(mask_corrected)\r\n",
        "    del mask_corrected\r\n",
        "    if i%100 == 0:\r\n",
        "      print('processed frame ', i)\r\n",
        "\r\n",
        "out.release()\r\n",
        "\r\n",
        "files.download('/content/drive/MyDrive/vision/erodedKNN.mp4')"
      ],
      "execution_count": 19,
      "outputs": [
        {
          "output_type": "stream",
          "text": [
            "processed frame  0\n",
            "processed frame  100\n",
            "processed frame  200\n",
            "processed frame  300\n",
            "processed frame  400\n",
            "processed frame  500\n",
            "processed frame  600\n",
            "processed frame  700\n",
            "processed frame  800\n",
            "processed frame  900\n",
            "processed frame  1000\n",
            "processed frame  1100\n"
          ],
          "name": "stdout"
        },
        {
          "output_type": "display_data",
          "data": {
            "application/javascript": [
              "\n",
              "    async function download(id, filename, size) {\n",
              "      if (!google.colab.kernel.accessAllowed) {\n",
              "        return;\n",
              "      }\n",
              "      const div = document.createElement('div');\n",
              "      const label = document.createElement('label');\n",
              "      label.textContent = `Downloading \"${filename}\": `;\n",
              "      div.appendChild(label);\n",
              "      const progress = document.createElement('progress');\n",
              "      progress.max = size;\n",
              "      div.appendChild(progress);\n",
              "      document.body.appendChild(div);\n",
              "\n",
              "      const buffers = [];\n",
              "      let downloaded = 0;\n",
              "\n",
              "      const channel = await google.colab.kernel.comms.open(id);\n",
              "      // Send a message to notify the kernel that we're ready.\n",
              "      channel.send({})\n",
              "\n",
              "      for await (const message of channel.messages) {\n",
              "        // Send a message to notify the kernel that we're ready.\n",
              "        channel.send({})\n",
              "        if (message.buffers) {\n",
              "          for (const buffer of message.buffers) {\n",
              "            buffers.push(buffer);\n",
              "            downloaded += buffer.byteLength;\n",
              "            progress.value = downloaded;\n",
              "          }\n",
              "        }\n",
              "      }\n",
              "      const blob = new Blob(buffers, {type: 'application/binary'});\n",
              "      const a = document.createElement('a');\n",
              "      a.href = window.URL.createObjectURL(blob);\n",
              "      a.download = filename;\n",
              "      div.appendChild(a);\n",
              "      a.click();\n",
              "      div.remove();\n",
              "    }\n",
              "  "
            ],
            "text/plain": [
              "<IPython.core.display.Javascript object>"
            ]
          },
          "metadata": {
            "tags": []
          }
        },
        {
          "output_type": "display_data",
          "data": {
            "application/javascript": [
              "download(\"download_849d3fa1-66af-48f0-8e78-0e4fcf08bb78\", \"erodedKNN.mp4\", 7656260)"
            ],
            "text/plain": [
              "<IPython.core.display.Javascript object>"
            ]
          },
          "metadata": {
            "tags": []
          }
        }
      ]
    },
    {
      "cell_type": "markdown",
      "metadata": {
        "id": "2J0VYYbK5US6"
      },
      "source": [
        "# frame difference"
      ]
    },
    {
      "cell_type": "code",
      "metadata": {
        "colab": {
          "base_uri": "https://localhost:8080/"
        },
        "id": "zaUw-Yx56Z_w",
        "outputId": "cf796c64-e953-42ee-c973-fcd65e476f84"
      },
      "source": [
        "video_path = '/content/drive/MyDrive/vision/senza_ombre_motog5.mp4'\r\n",
        "cap = cv.VideoCapture(video_path)\r\n",
        "processed_frames = []\r\n",
        "index = 0\r\n",
        "masks = []\r\n",
        "\r\n",
        "kernel = cv.getStructuringElement(cv.MORPH_ELLIPSE,(30,30))\r\n",
        "gradient_kernel = cv.getStructuringElement(cv.MORPH_RECT,(30,30))\r\n",
        "erode_kernel = cv.getStructuringElement(cv.MORPH_ELLIPSE,(10,10))\r\n",
        "threshold_value = 100\r\n",
        "\r\n",
        "while cap.isOpened():\r\n",
        "  ret, frame_current = cap.read()\r\n",
        "  ret_next, frame_next = cap.read()\r\n",
        "  if not ret or not ret_next:\r\n",
        "    print(\"Can't receive frame (stream end?). Exiting ...\")\r\n",
        "    break\r\n",
        "\r\n",
        "  processed_frames.append(frame_current)\r\n",
        "\r\n",
        "  gray_current = cv.cvtColor(frame_current, cv.COLOR_BGR2GRAY)\r\n",
        "  gray_next = cv.cvtColor(frame_next, cv.COLOR_BGR2GRAY)\r\n",
        "  difference = cv.absdiff(gray_current, gray_next)\r\n",
        "  blur = cv.GaussianBlur(difference,(5,5),0)\r\n",
        "  thresh = cv.threshold(blur, threshold_value, 255, cv.THRESH_BINARY)\r\n",
        "  thresh = thresh[1]\r\n",
        "  closing = cv.morphologyEx(thresh, cv.MORPH_CLOSE, kernel)\r\n",
        "  gradient = cv.morphologyEx(closing, cv.MORPH_GRADIENT, gradient_kernel)\r\n",
        "  thresh = cv.threshold(gradient, 50, 255, cv.THRESH_BINARY)\r\n",
        "  thresh = thresh[1]\r\n",
        "  flood = cv.floodFill(thresh, None, (0,0), 255)\r\n",
        "  flood = flood[1]\r\n",
        "  invert = cv.bitwise_not(flood)\r\n",
        "  combine = gradient | invert\r\n",
        "  masks.append(combine)\r\n"
      ],
      "execution_count": 19,
      "outputs": [
        {
          "output_type": "stream",
          "text": [
            "Can't receive frame (stream end?). Exiting ...\n"
          ],
          "name": "stdout"
        }
      ]
    },
    {
      "cell_type": "code",
      "metadata": {
        "colab": {
          "base_uri": "https://localhost:8080/",
          "height": 257
        },
        "id": "MRkVAt_I7CHP",
        "outputId": "f9e04df6-0ab3-4edf-c586-7cce53a3e20a"
      },
      "source": [
        "plt.imshow(masks[200], cmap='gray')"
      ],
      "execution_count": 23,
      "outputs": [
        {
          "output_type": "execute_result",
          "data": {
            "text/plain": [
              "<matplotlib.image.AxesImage at 0x7f7f48870f28>"
            ]
          },
          "metadata": {
            "tags": []
          },
          "execution_count": 23
        },
        {
          "output_type": "display_data",
          "data": {
            "image/png": "[encoded data removed]",
            "text/plain": [
              "<Figure size 432x288 with 1 Axes>"
            ]
          },
          "metadata": {
            "tags": [],
            "needs_background": "light"
          }
        }
      ]
    }
  ]
}